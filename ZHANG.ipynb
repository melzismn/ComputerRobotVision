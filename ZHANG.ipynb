{
  "nbformat": 4,
  "nbformat_minor": 0,
  "metadata": {
    "colab": {
      "provenance": [],
      "authorship_tag": "ABX9TyP+yI5dlbXVa0KV/z7tOzvq",
      "include_colab_link": true
    },
    "kernelspec": {
      "name": "python3",
      "display_name": "Python 3"
    },
    "language_info": {
      "name": "python"
    }
  },
  "cells": [
    {
      "cell_type": "markdown",
      "metadata": {
        "id": "view-in-github",
        "colab_type": "text"
      },
      "source": [
        "<a href=\"https://colab.research.google.com/github/melzismn/ComputerRobotVision/blob/main/ZHANG.ipynb\" target=\"_parent\"><img src=\"https://colab.research.google.com/assets/colab-badge.svg\" alt=\"Open In Colab\"/></a>"
      ]
    },
    {
      "cell_type": "code",
      "execution_count": 1,
      "metadata": {
        "id": "nG8KCxY9tM0Q"
      },
      "outputs": [],
      "source": [
        "\"\"\"\n",
        "Lab2 - Computer and Robot Vision 2022-2023\n",
        "\n",
        "Simone Melzi - simone.melzi[at]unimib.it\n",
        "\n",
        "ZHANG\n",
        "\n",
        "\"\"\"\n",
        "\n",
        "# Utilities functions\n",
        "import numpy as np\n",
        "import cv2\n",
        "import glob\n",
        "from matplotlib import pyplot as plt\n",
        "from google.colab.patches import cv2_imshow"
      ]
    },
    {
      "cell_type": "markdown",
      "source": [
        "# Define the path for the image"
      ],
      "metadata": {
        "id": "YhgBI-Wzv631"
      }
    },
    {
      "cell_type": "code",
      "source": [
        "!git clone https://github.com/melzismn/ComputerRobotVision/images zhang\n",
        "from PIL import Image\n",
        "Image.open('zhang/zhang1.jpg')"
      ],
      "metadata": {
        "colab": {
          "base_uri": "https://localhost:8080/",
          "height": 373
        },
        "id": "kF8rAE4nv-Z_",
        "outputId": "74f574e0-fd25-4279-9650-3d440eb7251c"
      },
      "execution_count": 6,
      "outputs": [
        {
          "output_type": "stream",
          "name": "stdout",
          "text": [
            "Cloning into 'zhang'...\n",
            "remote: Not Found\n",
            "fatal: repository 'https://github.com/melzismn/ComputerRobotVision/images/' not found\n"
          ]
        },
        {
          "output_type": "error",
          "ename": "FileNotFoundError",
          "evalue": "ignored",
          "traceback": [
            "\u001b[0;31m---------------------------------------------------------------------------\u001b[0m",
            "\u001b[0;31mFileNotFoundError\u001b[0m                         Traceback (most recent call last)",
            "\u001b[0;32m<ipython-input-6-af2ef14412c5>\u001b[0m in \u001b[0;36m<module>\u001b[0;34m\u001b[0m\n\u001b[1;32m      1\u001b[0m \u001b[0mget_ipython\u001b[0m\u001b[0;34m(\u001b[0m\u001b[0;34m)\u001b[0m\u001b[0;34m.\u001b[0m\u001b[0msystem\u001b[0m\u001b[0;34m(\u001b[0m\u001b[0;34m'git clone https://github.com/melzismn/ComputerRobotVision/images zhang'\u001b[0m\u001b[0;34m)\u001b[0m\u001b[0;34m\u001b[0m\u001b[0;34m\u001b[0m\u001b[0m\n\u001b[1;32m      2\u001b[0m \u001b[0;32mfrom\u001b[0m \u001b[0mPIL\u001b[0m \u001b[0;32mimport\u001b[0m \u001b[0mImage\u001b[0m\u001b[0;34m\u001b[0m\u001b[0;34m\u001b[0m\u001b[0m\n\u001b[0;32m----> 3\u001b[0;31m \u001b[0mImage\u001b[0m\u001b[0;34m.\u001b[0m\u001b[0mopen\u001b[0m\u001b[0;34m(\u001b[0m\u001b[0;34m'zhang/zhang1.jpg'\u001b[0m\u001b[0;34m)\u001b[0m\u001b[0;34m\u001b[0m\u001b[0;34m\u001b[0m\u001b[0m\n\u001b[0m",
            "\u001b[0;32m/usr/local/lib/python3.7/dist-packages/PIL/Image.py\u001b[0m in \u001b[0;36mopen\u001b[0;34m(fp, mode)\u001b[0m\n\u001b[1;32m   2841\u001b[0m \u001b[0;34m\u001b[0m\u001b[0m\n\u001b[1;32m   2842\u001b[0m     \u001b[0;32mif\u001b[0m \u001b[0mfilename\u001b[0m\u001b[0;34m:\u001b[0m\u001b[0;34m\u001b[0m\u001b[0;34m\u001b[0m\u001b[0m\n\u001b[0;32m-> 2843\u001b[0;31m         \u001b[0mfp\u001b[0m \u001b[0;34m=\u001b[0m \u001b[0mbuiltins\u001b[0m\u001b[0;34m.\u001b[0m\u001b[0mopen\u001b[0m\u001b[0;34m(\u001b[0m\u001b[0mfilename\u001b[0m\u001b[0;34m,\u001b[0m \u001b[0;34m\"rb\"\u001b[0m\u001b[0;34m)\u001b[0m\u001b[0;34m\u001b[0m\u001b[0;34m\u001b[0m\u001b[0m\n\u001b[0m\u001b[1;32m   2844\u001b[0m         \u001b[0mexclusive_fp\u001b[0m \u001b[0;34m=\u001b[0m \u001b[0;32mTrue\u001b[0m\u001b[0;34m\u001b[0m\u001b[0;34m\u001b[0m\u001b[0m\n\u001b[1;32m   2845\u001b[0m \u001b[0;34m\u001b[0m\u001b[0m\n",
            "\u001b[0;31mFileNotFoundError\u001b[0m: [Errno 2] No such file or directory: 'zhang/zhang1.jpg'"
          ]
        }
      ]
    },
    {
      "cell_type": "markdown",
      "source": [
        "# Prepare the variables"
      ],
      "metadata": {
        "id": "T-h7fTgGvfMy"
      }
    },
    {
      "cell_type": "code",
      "source": [
        "chess_points = np.zeros((7*6,3), np.float32)\n",
        "size = (7,6)\n",
        "square_size = 1\n",
        "\n",
        "point_index = 0\n"
      ],
      "metadata": {
        "id": "6MlGrrMbviGL"
      },
      "execution_count": 2,
      "outputs": []
    },
    {
      "cell_type": "markdown",
      "source": [
        "Costruiamo l'array di punti mondo della scacchiera, ovviamente è uguale per ogni immagine, visto che il sistema di riferimento è sempre posto sullo stesso vertice della scacchiera\n"
      ],
      "metadata": {
        "id": "iGypsu50wL1n"
      }
    },
    {
      "cell_type": "code",
      "source": [
        "for y in np.arange(0,size[1], square_size):\n",
        "    for x in np.arange(0,size[0], square_size):\n",
        "        chess_points[point_index] = np.asarray([x,y,0])\n",
        "        point_index = point_index + 1"
      ],
      "metadata": {
        "id": "qhTK19DdwQB3"
      },
      "execution_count": 3,
      "outputs": []
    },
    {
      "cell_type": "markdown",
      "source": [
        "# Prepare world and image points"
      ],
      "metadata": {
        "id": "Zop1WcdzwXiD"
      }
    },
    {
      "cell_type": "code",
      "source": [
        "world_points = [] \n",
        "image_points = [] \n",
        "\n",
        "images = glob.glob('.\\immagini\\zhang\\*.jpg')\n",
        "\n",
        "image_size = None\n",
        "used_images = []\n",
        "for fname in images:\n",
        "    img = cv2.imread(fname)\n",
        "    gray = cv2.cvtColor(img,cv2.COLOR_BGR2GRAY)\n",
        "\n",
        "    #Troviamo i punti immagine\n",
        "    ret, corners = cv2.findChessboardCorners(gray, size)\n",
        "\n",
        "    if ret == True:\n",
        "        used_images.append(img)\n",
        "        image_size = gray.shape[::-1]\n",
        "        image_points.append(corners)\n",
        "        world_points.append(chess_points)\n",
        "\n",
        "    img = cv2.drawChessboardCorners(img, size, corners,ret)\n",
        "    cv2.imshow('img',img)\n",
        "    cv2.waitKey(1000)\n"
      ],
      "metadata": {
        "id": "0wL6powjwfeY"
      },
      "execution_count": null,
      "outputs": []
    },
    {
      "cell_type": "markdown",
      "source": [
        "# Calibriamo con il codice di cv2"
      ],
      "metadata": {
        "id": "T-qDWWOlwgd3"
      }
    },
    {
      "cell_type": "code",
      "source": [
        "ret, mtx, dist, rvecs, tvecs = cv2.calibrateCamera(world_points, image_points, image_size, None, None)\n",
        "print(f'{ret} - {mtx} - {dist} - {rvecs} - {tvecs}')\n"
      ],
      "metadata": {
        "id": "HWjfazmnworX"
      },
      "execution_count": null,
      "outputs": []
    },
    {
      "cell_type": "markdown",
      "source": [
        "# Testiamo l'errore di proiezione"
      ],
      "metadata": {
        "id": "hXA2kLuWwss7"
      }
    },
    {
      "cell_type": "code",
      "source": [
        "tot_error = 0\n",
        "\n",
        "for i in range(len(world_points)):\n",
        "    #Proiettiamo i punti mondo sull'immagine, usando la calibrazione appena calcolata\n",
        "    image_points_proj, _ = cv2.projectPoints(world_points[i], rvecs[i], tvecs[i], mtx, dist)\n",
        "\n",
        "    #Calcoliamo l'errore di riproiezione\n",
        "    error = cv2.norm(image_points[i],image_points_proj, cv2.NORM_L2)\n",
        "    tot_error += error\n",
        "    img = cv2.drawChessboardCorners(used_images[i], size, image_points_proj,True)\n",
        "    cv2.imshow('img',img)\n",
        "    cv2.waitKey(1000)\n",
        "\n",
        "\n",
        "print (f'total error:  {tot_error}')\n",
        "\n",
        "\n",
        "cv2.destroyAllWindows()"
      ],
      "metadata": {
        "id": "m31UfDlmw1uz"
      },
      "execution_count": null,
      "outputs": []
    }
  ]
}