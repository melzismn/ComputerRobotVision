{
  "nbformat": 4,
  "nbformat_minor": 0,
  "metadata": {
    "colab": {
      "provenance": [],
      "authorship_tag": "ABX9TyPZFiPg6ECdREpUQypdCjdv",
      "include_colab_link": true
    },
    "kernelspec": {
      "name": "python3",
      "display_name": "Python 3"
    },
    "language_info": {
      "name": "python"
    }
  },
  "cells": [
    {
      "cell_type": "markdown",
      "metadata": {
        "id": "view-in-github",
        "colab_type": "text"
      },
      "source": [
        "<a href=\"https://colab.research.google.com/github/melzismn/ComputerRobotVision/blob/main/ZHANG.ipynb\" target=\"_parent\"><img src=\"https://colab.research.google.com/assets/colab-badge.svg\" alt=\"Open In Colab\"/></a>"
      ]
    },
    {
      "cell_type": "code",
      "execution_count": 1,
      "metadata": {
        "id": "nG8KCxY9tM0Q"
      },
      "outputs": [],
      "source": [
        "\"\"\"\n",
        "Lab2 - Computer and Robot Vision 2022-2023\n",
        "\n",
        "Simone Melzi - simone.melzi[at]unimib.it\n",
        "\n",
        "ZHANG\n",
        "\n",
        "\"\"\"\n",
        "\n",
        "# Utilities functions\n",
        "import numpy as np\n",
        "import cv2\n",
        "import glob\n",
        "from matplotlib import pyplot as plt\n",
        "from google.colab.patches import cv2_imshow"
      ]
    },
    {
      "cell_type": "markdown",
      "source": [
        "# Define the path for the image"
      ],
      "metadata": {
        "id": "YhgBI-Wzv631"
      }
    },
    {
      "cell_type": "code",
      "source": [
        "#!git clone https://github.com/melzismn/ComputerRobotVision images\n",
        "#from PIL import Image\n",
        "#Image.open('images/DLTtestImage.jpg')"
      ],
      "metadata": {
        "id": "kF8rAE4nv-Z_"
      },
      "execution_count": null,
      "outputs": []
    },
    {
      "cell_type": "markdown",
      "source": [
        "# Prepare the variables"
      ],
      "metadata": {
        "id": "T-h7fTgGvfMy"
      }
    },
    {
      "cell_type": "code",
      "source": [
        "chess_points = np.zeros((7*6,3), np.float32)\n",
        "size = (7,6)\n",
        "square_size = 1\n",
        "\n",
        "point_index = 0\n"
      ],
      "metadata": {
        "id": "6MlGrrMbviGL"
      },
      "execution_count": null,
      "outputs": []
    },
    {
      "cell_type": "markdown",
      "source": [
        "Costruiamo l'array di punti mondo della scacchiera, ovviamente è uguale per ogni immagine, visto che il sistema di riferimento è sempre posto sullo stesso vertice della scacchiera\n"
      ],
      "metadata": {
        "id": "iGypsu50wL1n"
      }
    },
    {
      "cell_type": "code",
      "source": [
        "for y in np.arange(0,size[1], square_size):\n",
        "    for x in np.arange(0,size[0], square_size):\n",
        "        chess_points[point_index] = np.asarray([x,y,0])\n",
        "        point_index = point_index + 1"
      ],
      "metadata": {
        "id": "qhTK19DdwQB3"
      },
      "execution_count": null,
      "outputs": []
    },
    {
      "cell_type": "markdown",
      "source": [
        "# Prepare world and image points"
      ],
      "metadata": {
        "id": "Zop1WcdzwXiD"
      }
    },
    {
      "cell_type": "code",
      "source": [
        "world_points = [] \n",
        "image_points = [] \n",
        "\n",
        "images = glob.glob('.\\immagini\\*.jpg')\n",
        "\n",
        "image_size = None\n",
        "used_images = []\n",
        "for fname in images:\n",
        "    img = cv2.imread(fname)\n",
        "    gray = cv2.cvtColor(img,cv2.COLOR_BGR2GRAY)\n",
        "\n",
        "    #Troviamo i punti immagine\n",
        "    ret, corners = cv2.findChessboardCorners(gray, size)\n",
        "\n",
        "    if ret == True:\n",
        "        used_images.append(img)\n",
        "        image_size = gray.shape[::-1]\n",
        "        image_points.append(corners)\n",
        "        world_points.append(chess_points)\n",
        "\n",
        "    img = cv2.drawChessboardCorners(img, size, corners,ret)\n",
        "    cv2.imshow('img',img)\n",
        "    cv2.waitKey(1000)\n"
      ],
      "metadata": {
        "id": "0wL6powjwfeY"
      },
      "execution_count": null,
      "outputs": []
    },
    {
      "cell_type": "markdown",
      "source": [
        "# calibriamo con il codice di cv2"
      ],
      "metadata": {
        "id": "T-qDWWOlwgd3"
      }
    },
    {
      "cell_type": "code",
      "source": [
        "ret, mtx, dist, rvecs, tvecs = cv2.calibrateCamera(world_points, image_points, image_size, None, None)\n",
        "print(f'{ret} - {mtx} - {dist} - {rvecs} - {tvecs}')\n"
      ],
      "metadata": {
        "id": "HWjfazmnworX"
      },
      "execution_count": null,
      "outputs": []
    },
    {
      "cell_type": "markdown",
      "source": [
        "# Testiamo l'errore di proiezione"
      ],
      "metadata": {
        "id": "hXA2kLuWwss7"
      }
    },
    {
      "cell_type": "code",
      "source": [
        "tot_error = 0\n",
        "\n",
        "for i in range(len(world_points)):\n",
        "    #Proiettiamo i punti mondo sull'immagine, usando la calibrazione appena calcolata\n",
        "    image_points_proj, _ = cv2.projectPoints(world_points[i], rvecs[i], tvecs[i], mtx, dist)\n",
        "\n",
        "    #Calcoliamo l'errore di riproiezione\n",
        "    error = cv2.norm(image_points[i],image_points_proj, cv2.NORM_L2)\n",
        "    tot_error += error\n",
        "    img = cv2.drawChessboardCorners(used_images[i], size, image_points_proj,True)\n",
        "    cv2.imshow('img',img)\n",
        "    cv2.waitKey(1000)\n",
        "\n",
        "\n",
        "print (f'total error:  {tot_error}')\n",
        "\n",
        "\n",
        "cv2.destroyAllWindows()"
      ],
      "metadata": {
        "id": "m31UfDlmw1uz"
      },
      "execution_count": null,
      "outputs": []
    }
  ]
}